{
 "cells": [
  {
   "cell_type": "markdown",
   "metadata": {},
   "source": [
    "# Linear regression and linear classification via incremental gradient descent and mini-batches (numpy vs pytorch)"
   ]
  },
  {
   "cell_type": "markdown",
   "metadata": {},
   "source": [
    "#### Data and solution from algebra "
   ]
  },
  {
   "cell_type": "markdown",
   "metadata": {},
   "source": [
    "The work directory is given from the function."
   ]
  },
  {
   "cell_type": "code",
   "execution_count": 1,
   "metadata": {},
   "outputs": [],
   "source": [
    "import deepglmlib.utils as utils\n",
    "import numpy as np\n",
    "\n",
    "def towdir(s):\n",
    "    return (str('./datasets_book/'+s))"
   ]
  },
  {
   "cell_type": "code",
   "execution_count": null,
   "metadata": {},
   "outputs": [],
   "source": [
    "import importlib\n",
    "importlib.reload(utils)"
   ]
  },
  {
   "cell_type": "code",
   "execution_count": 3,
   "metadata": {},
   "outputs": [],
   "source": [
    "import numpy as np\n",
    "\n",
    "n    = 300\n",
    "beta = np.asarray([-0.5, 3.5]).reshape((2,1))\n",
    "\n",
    "x  = np.random.uniform(0,1,n).reshape((n,1))\n",
    "e  = np.random.randn(n).reshape((n,1))/5\n",
    "\n",
    "X  = np.hstack([np.ones((n,1)), x])\n",
    "y  = X@beta + e\n",
    "\n",
    "Xy = np.hstack([x, y])\n",
    "np.savetxt(towdir(\"./beta_1d_reglinear300.txt\"), beta)\n",
    "np.savetxt(towdir(\"./xy_1d_reglinear300.txt\"), Xy)"
   ]
  },
  {
   "cell_type": "code",
   "execution_count": 4,
   "metadata": {},
   "outputs": [
    {
     "data": {
      "text/plain": [
       "((300, 2), (300, 1), (300, 1), (2, 1))"
      ]
     },
     "execution_count": 4,
     "metadata": {},
     "output_type": "execute_result"
    }
   ],
   "source": [
    "import numpy as np\n",
    "\n",
    "beta = np.loadtxt(towdir(\"./beta_1d_reglinear300.txt\"))\n",
    "xy   = np.loadtxt(towdir(\"./xy_1d_reglinear300.txt\"))\n",
    "\n",
    "beta = beta.reshape((2,1))\n",
    "x    = xy[:,0].reshape((len(xy),1))\n",
    "y    = xy[:,1].reshape((len(xy),1))\n",
    "\n",
    "n    = len(y)\n",
    "X    = np.hstack([np.ones((n,1)), x])\n",
    "\n",
    "X.shape, x.shape, y.shape, beta.shape"
   ]
  },
  {
   "cell_type": "code",
   "execution_count": 5,
   "metadata": {},
   "outputs": [
    {
     "name": "stdout",
     "output_type": "stream",
     "text": [
      "beta_true=\n",
      "[[-0.5]\n",
      " [ 3.5]]\n"
     ]
    }
   ],
   "source": [
    "print(\"beta_true=\")\n",
    "print(beta)"
   ]
  },
  {
   "cell_type": "markdown",
   "metadata": {},
   "source": [
    " "
   ]
  },
  {
   "cell_type": "code",
   "execution_count": 6,
   "metadata": {},
   "outputs": [
    {
     "name": "stdout",
     "output_type": "stream",
     "text": [
      "betaha_np=\n",
      "[[-0.5010295 ]\n",
      " [ 3.48326088]]\n",
      "\n",
      "loss_np= 0.03879\n"
     ]
    }
   ],
   "source": [
    "betahat_np = np.linalg.inv(X.T.dot(X)).dot(X.T).dot(y)\n",
    "betahat_np = betahat_np.reshape((2,1))\n",
    "print(\"betaha_np=\")\n",
    "print(betahat_np)\n",
    "print()\n",
    "print(\"loss_np=\",np.round(np.sum((y-X@betahat_np)**2)/n,5))"
   ]
  },
  {
   "cell_type": "markdown",
   "metadata": {},
   "source": [
    "#### Loop with data one by one and parameters update via numpy"
   ]
  },
  {
   "cell_type": "markdown",
   "metadata": {},
   "source": [
    " "
   ]
  },
  {
   "cell_type": "code",
   "execution_count": 7,
   "metadata": {},
   "outputs": [],
   "source": [
    "import copy\n"
   ]
  },
  {
   "cell_type": "code",
   "execution_count": 8,
   "metadata": {},
   "outputs": [
    {
     "name": "stdout",
     "output_type": "stream",
     "text": [
      "beta_st=\n",
      " [[-0.50809627]\n",
      " [ 3.48729191]]\n",
      "\n",
      "loss_st= 0.03882\n"
     ]
    }
   ],
   "source": [
    "#beta_st    = copy.deepcopy(beta_init)\n",
    "beta_st    = 5.0 * np.ones((2,1))\n",
    "alpha_t     = 1e-2\n",
    "n_epoqs     = 20\n",
    "loss_st_s   = []\n",
    "grad2_st_s   = []\n",
    "beta_st_s   = []\n",
    "beta_st_s.append( copy.deepcopy(beta_st.squeeze()) )\n",
    "\n",
    "n = len(y)\n",
    "for epoch in range(0,n_epoqs):\n",
    "    for i in range(0,n):\n",
    "        xi = X[i,:].reshape((2,1))\n",
    "        yi = y[i]\n",
    "        #grad_C = -2*(yi-xi.T@betat)*xi\n",
    "        gradient1  = -2*xi@(yi-xi.T@beta_st)\n",
    "        beta_st  -= alpha_t * gradient1\n",
    "        beta_st_s.append( copy.deepcopy(beta_st.squeeze()) )\n",
    "    #print(\"beta_st=\\n\",beta_st.ravel())\n",
    "    loss_st_s.append( np.sum((y-X@beta_st)**2)/n )\n",
    "    grad2_st_s.append( np.sum((gradient1)**2) )    \n",
    "tmax_st=epoch\n",
    "\n",
    "print(\"beta_st=\\n\",beta_st)\n",
    "print()\n",
    "print(\"loss_st=\",np.round(loss_st_s[tmax_st-1],5))"
   ]
  },
  {
   "cell_type": "markdown",
   "metadata": {},
   "source": [
    " "
   ]
  },
  {
   "cell_type": "code",
   "execution_count": 9,
   "metadata": {},
   "outputs": [
    {
     "data": {
      "image/png": "[encoded data removed]",
      "text/plain": [
       "<Figure size 432x288 with 1 Axes>"
      ]
     },
     "metadata": {
      "needs_background": "light"
     },
     "output_type": "display_data"
    }
   ],
   "source": [
    "import matplotlib.pyplot as plt\n",
    "fig, ax = plt.subplots()\n",
    "utils.f_draw(range(len(loss_st_s)), loss_st_s, \"b-\", r'$epoch$',r'$mse$',\n",
    "             \"Fitting linear regression (per 1 unit, numpy)\",ax)"
   ]
  },
  {
   "cell_type": "markdown",
   "metadata": {},
   "source": [
    " "
   ]
  },
  {
   "cell_type": "markdown",
   "metadata": {},
   "source": [
    "### Without pytorch: gradient descent (with a mini-batch of B data vectors)"
   ]
  },
  {
   "cell_type": "code",
   "execution_count": null,
   "metadata": {},
   "outputs": [],
   "source": []
  },
  {
   "cell_type": "code",
   "execution_count": null,
   "metadata": {},
   "outputs": [],
   "source": []
  },
  {
   "cell_type": "code",
   "execution_count": 10,
   "metadata": {},
   "outputs": [
    {
     "name": "stdout",
     "output_type": "stream",
     "text": [
      "beta_mb=\n",
      " [[-0.48666357]\n",
      " [ 3.48627006]]\n",
      "\n",
      "loss_mb= 0.03904\n"
     ]
    }
   ],
   "source": [
    "beta_mb = -5.0 * np.ones((2,1))\n",
    "alpha_t  = 1e-2\n",
    "n_epoqs  = 20\n",
    "\n",
    "size_batch=10\n",
    "i_s       = np.array(np.mgrid[0:n:complex(real=0,imag=size_batch)],dtype=int)\n",
    "\n",
    "loss_mb_s = []\n",
    "grad2_mb_s = []\n",
    "beta_mb_s = []\n",
    "beta_mb_s.append( copy.deepcopy(beta_mb.squeeze()) )\n",
    "\n",
    "n = len(y)\n",
    "for epoch in range(0,n_epoqs):\n",
    "    for l in range(0,len(i_s)-1):\n",
    "        b = range(i_s[l]+1*(l>0),i_s[l+1])\n",
    "        Xb = X[b,:]\n",
    "        yb = y[b]\n",
    "        gradientb = -2*np.transpose(Xb)@(yb-Xb @ beta_mb)\n",
    "        beta_mb -= alpha_t * gradientb\n",
    "        beta_mb_s.append( copy.deepcopy(beta_mb.squeeze()) )\n",
    "    loss_mb_s.append( np.sum((y-X@beta_mb)**2)/n )\n",
    "    grad2_mb_s.append( np.sum((gradientb)**2) )    \n",
    "tmax_mb=epoch\n",
    "\n",
    "print(\"beta_mb=\\n\",beta_mb)\n",
    "print()\n",
    "print(\"loss_mb=\",np.round(loss_mb_s[tmax_mb-1],5))"
   ]
  },
  {
   "cell_type": "code",
   "execution_count": null,
   "metadata": {},
   "outputs": [],
   "source": []
  },
  {
   "cell_type": "markdown",
   "metadata": {},
   "source": [
    " "
   ]
  },
  {
   "cell_type": "markdown",
   "metadata": {},
   "source": [
    "### With Pytorch: gradient descent (with a mini-batch of B data vectors)"
   ]
  },
  {
   "cell_type": "markdown",
   "metadata": {},
   "source": [
    " "
   ]
  },
  {
   "cell_type": "markdown",
   "metadata": {},
   "source": [
    "#### Loading the module"
   ]
  },
  {
   "cell_type": "code",
   "execution_count": 11,
   "metadata": {},
   "outputs": [],
   "source": [
    "import torch"
   ]
  },
  {
   "cell_type": "code",
   "execution_count": 12,
   "metadata": {},
   "outputs": [
    {
     "data": {
      "text/plain": [
       "'1.10.0+cu102'"
      ]
     },
     "execution_count": 12,
     "metadata": {},
     "output_type": "execute_result"
    }
   ],
   "source": [
    "torch.__version__"
   ]
  },
  {
   "cell_type": "markdown",
   "metadata": {},
   "source": [
    " "
   ]
  },
  {
   "cell_type": "markdown",
   "metadata": {},
   "source": [
    "#### Dataloader and tensors (for cycling the dataset)"
   ]
  },
  {
   "cell_type": "markdown",
   "metadata": {},
   "source": [
    " "
   ]
  },
  {
   "cell_type": "markdown",
   "metadata": {},
   "source": [
    " "
   ]
  },
  {
   "cell_type": "code",
   "execution_count": 14,
   "metadata": {},
   "outputs": [],
   "source": [
    "from torch.utils.data import DataLoader, TensorDataset\n",
    "\n",
    "dataset     = TensorDataset( torch.Tensor(X), torch.Tensor(y) )\n",
    "dataloader  = DataLoader(dataset, batch_size= 10, shuffle=False)"
   ]
  },
  {
   "cell_type": "markdown",
   "metadata": {},
   "source": [
    " "
   ]
  },
  {
   "cell_type": "code",
   "execution_count": 15,
   "metadata": {},
   "outputs": [
    {
     "name": "stdout",
     "output_type": "stream",
     "text": [
      "(300, 2) (300, 1)\n"
     ]
    }
   ],
   "source": [
    "print(dataloader.dataset.tensors[0].numpy().shape,\n",
    "      dataloader.dataset.tensors[1].numpy().shape)"
   ]
  },
  {
   "cell_type": "markdown",
   "metadata": {},
   "source": [
    " "
   ]
  },
  {
   "cell_type": "markdown",
   "metadata": {},
   "source": [
    "#### Autograd and loop for the updates"
   ]
  },
  {
   "cell_type": "markdown",
   "metadata": {},
   "source": [
    " "
   ]
  },
  {
   "cell_type": "markdown",
   "metadata": {},
   "source": [
    " "
   ]
  },
  {
   "cell_type": "code",
   "execution_count": 16,
   "metadata": {},
   "outputs": [],
   "source": [
    "def loss_mse_Xb_yb_beta(Xb,yb,beta): #loss to minimize\n",
    "    return (yb-Xb@beta).pow(2).sum()\n",
    "\n",
    "def f_minimizeloss_update_torch(beta_ag,alpha_t,Xb,yb):\n",
    "    beta_ag -= alpha_t * beta_ag.grad    \n",
    "\n",
    "def f_minimizeloss_loop_torch(dataloader,loss,f_update,\n",
    "                              alpha_t=1e-3,n_epoqs=180,\n",
    "                              betainit=None):\n",
    "    loss_ag_s  = []\n",
    "    beta_ag_s = []\n",
    "    n          = dataloader.dataset.tensors[0].numpy().shape[0]\n",
    "    p          = dataloader.dataset.tensors[0].numpy().shape[1]\n",
    "    \n",
    "    if betainit is None: betainit = np.zeros((p,1))\n",
    "    beta_ag   = torch.Tensor(betainit)\n",
    "    beta_ag.requires_grad_(True)          #required for autograd\n",
    "    beta_ag_s.append(betainit.squeeze())  #keep init beta in a list\n",
    "    \n",
    "    for epoch in range(0,n_epoqs):\n",
    "        loss_epoch=0\n",
    "        #for l in range(0,len(i_s)-1):\n",
    "        for Xb,yb in iter(dataloader):\n",
    "            loss_b = loss(Xb,yb,beta_ag)\n",
    "            loss_b.backward()\n",
    "            #update with gradient of loss from autograd\n",
    "            with torch.no_grad():\n",
    "                f_update(beta_ag,alpha_t,Xb,yb)\n",
    "                beta_ag.grad.zero_()\n",
    "                #beta_ag -= alpha_t * beta_ag.grad\n",
    "                #beta_ag.grad.zero_()\n",
    "            loss_epoch += loss_b\n",
    "            #keep intermediate value of beta in a list\n",
    "            beta_ag_s.append(copy.deepcopy( \n",
    "                   beta_ag.detach().numpy().squeeze()))  \n",
    "        loss_ag_s.append(loss_epoch/n)\n",
    "    tmax_ag = epoch\n",
    "    return beta_ag, tmax_ag, loss_ag_s, beta_ag_s"
   ]
  },
  {
   "cell_type": "markdown",
   "metadata": {},
   "source": [
    " "
   ]
  },
  {
   "cell_type": "code",
   "execution_count": 17,
   "metadata": {},
   "outputs": [
    {
     "name": "stdout",
     "output_type": "stream",
     "text": [
      "beta_ag=\n",
      " tensor([[0.5251],\n",
      "        [1.4533]], requires_grad=True)\n",
      "\n",
      "loss=0.66406\n"
     ]
    }
   ],
   "source": [
    "loss     = loss_mse_Xb_yb_beta\n",
    "alpha_t  = 1e-2\n",
    "n_epochs = 1 #20\n",
    "f_update = f_minimizeloss_update_torch\n",
    "\n",
    "beta_ag, tmax_ag, loss_ag_s, beta_ag_s = \\\n",
    "   f_minimizeloss_loop_torch(dataloader,loss,\n",
    "                             f_update,alpha_t,\n",
    "                             n_epochs)\n",
    "\n",
    "print(\"beta_ag=\\n\",beta_ag)\n",
    "print()\n",
    "print(f\"loss={loss_ag_s[tmax_ag]:1.5f}\")"
   ]
  },
  {
   "cell_type": "markdown",
   "metadata": {},
   "source": [
    " "
   ]
  },
  {
   "cell_type": "code",
   "execution_count": 18,
   "metadata": {},
   "outputs": [],
   "source": [
    "beta_ag = beta_ag.detach().numpy()"
   ]
  },
  {
   "cell_type": "markdown",
   "metadata": {},
   "source": [
    "### Visualisation of the trajectory of the parameters converging to a solution"
   ]
  },
  {
   "cell_type": "markdown",
   "metadata": {},
   "source": [
    " "
   ]
  },
  {
   "cell_type": "code",
   "execution_count": 19,
   "metadata": {},
   "outputs": [
    {
     "data": {
      "image/png": "[encoded data removed]",
      "text/plain": [
       "<Figure size 1440x432 with 1 Axes>"
      ]
     },
     "metadata": {
      "needs_background": "light"
     },
     "output_type": "display_data"
    }
   ],
   "source": [
    "# %matplotlib inline\n",
    "import matplotlib.pyplot as plt\n",
    "\n",
    "def f_MSE(betahat):\n",
    "    yhat = X @ betahat\n",
    "    return np.sum((y-yhat)**2) / len(yhat)\n",
    "\n",
    "def f_draw_mse2d_betas(Xmin,Xmax,Ymin,Ymax,f_,betahat,\n",
    "                       beta_s_list, marker_list):\n",
    "    XX, YY = np.mgrid[Xmin:Xmax:100j, Ymin:Ymax:100j]\n",
    "    ZZ=0*XX\n",
    "    \n",
    "    for k in range(0,100):\n",
    "        for l in range(0,100):\n",
    "            betakl = [XX[k,l],YY[k,l]]\n",
    "            ZZ[k,l] = f_(betakl)\n",
    "    \n",
    "    plt.imshow(ZZ.T, cmap=plt.cm.gray_r, \n",
    "               extent=[Xmin, Xmax, Ymin, Ymax],)\n",
    "               #origin='lower')\n",
    "    \n",
    "    plt.contour(XX, YY, ZZ, cmap=plt.cm.gnuplot)\n",
    "    plt.xlabel(r'$\\beta_0$')\n",
    "    plt.ylabel(r'$\\beta_1$')\n",
    "    plt.title(f'Loss function and training trajectory for '+\\\n",
    "              str(len(beta_s_list)) +' beta(s)')\n",
    "    \n",
    "    for beta_s in iter(beta_s_list):\n",
    "        plt.plot(np.asarray(beta_s)[-1,0], \n",
    "                 np.asarray(beta_s)[-1,1], 'k+', markersize=5)\n",
    "    \n",
    "    for beta_s, marker in iter(zip(beta_s_list,marker_list)):\n",
    "        plt.plot(np.asarray(beta_s)[:,0], np.asarray(beta_s)[:,1],\n",
    "                 marker, markersize=0.8)\n",
    "    \n",
    "    plt.plot(betahat[0], betahat[1], 'rp', markersize=5)\n",
    "    plt.show()\n",
    "    \n",
    "##\n",
    "plt.figure(figsize=(20,6))\n",
    "f_draw_mse2d_betas(-10.0,10.0,-6.0,6.0, f_MSE, betahat_np,\n",
    "      [beta_st_s, beta_mb_s, beta_ag_s],\n",
    "      ['b-', 'c-.', 'g--'])"
   ]
  },
  {
   "cell_type": "markdown",
   "metadata": {},
   "source": [
    "\n",
    " "
   ]
  },
  {
   "cell_type": "markdown",
   "metadata": {},
   "source": [
    "## Logistic regression with updates from Pytorch"
   ]
  },
  {
   "cell_type": "markdown",
   "metadata": {},
   "source": [
    "### Data"
   ]
  },
  {
   "cell_type": "markdown",
   "metadata": {},
   "source": [
    "Let first load the dataset."
   ]
  },
  {
   "cell_type": "code",
   "execution_count": 20,
   "metadata": {},
   "outputs": [
    {
     "name": "stdout",
     "output_type": "stream",
     "text": [
      "(100, 3) (100, 2) (100,)\n"
     ]
    }
   ],
   "source": [
    "import numpy as np\n",
    "xy   = np.loadtxt(towdir(\"./xy_2d_reglogistic.txt\",))\n",
    "beta = np.loadtxt(towdir(\"./beta_2d_reglogistic.txt\"))\n",
    "\n",
    "x    = xy[:,[0,1]]\n",
    "y    = xy[:,2]\n",
    "n    = len(y)\n",
    "\n",
    "print(xy.shape,x.shape,y.shape)"
   ]
  },
  {
   "cell_type": "code",
   "execution_count": 21,
   "metadata": {},
   "outputs": [
    {
     "data": {
      "text/plain": [
       "(48, 52)"
      ]
     },
     "execution_count": 21,
     "metadata": {},
     "output_type": "execute_result"
    }
   ],
   "source": [
    "sum(y==1), sum(y==0)"
   ]
  },
  {
   "cell_type": "markdown",
   "metadata": {},
   "source": [
    "### With pytorch"
   ]
  },
  {
   "cell_type": "code",
   "execution_count": 22,
   "metadata": {},
   "outputs": [
    {
     "data": {
      "text/plain": [
       "(100, 3)"
      ]
     },
     "execution_count": 22,
     "metadata": {},
     "output_type": "execute_result"
    }
   ],
   "source": [
    "X    = np.hstack([np.ones((n,1)), x])\n",
    "X.shape"
   ]
  },
  {
   "cell_type": "code",
   "execution_count": 23,
   "metadata": {},
   "outputs": [],
   "source": [
    "beta_init  = np.random.randn(3,1) * 2"
   ]
  },
  {
   "cell_type": "code",
   "execution_count": 24,
   "metadata": {},
   "outputs": [
    {
     "name": "stdout",
     "output_type": "stream",
     "text": [
      "loglik_init= [-38.29621294]\n"
     ]
    }
   ],
   "source": [
    "print(\"loglik_init=\",y.dot(X@beta_init) - np.sum(np.log(1 + np.exp(X@beta_init))))"
   ]
  },
  {
   "cell_type": "code",
   "execution_count": null,
   "metadata": {},
   "outputs": [],
   "source": [
    " "
   ]
  },
  {
   "cell_type": "markdown",
   "metadata": {},
   "source": [
    " "
   ]
  },
  {
   "cell_type": "code",
   "execution_count": 25,
   "metadata": {},
   "outputs": [],
   "source": [
    "import numpy as np\n",
    "import torch # from torch import Tensor\n",
    "from torch.utils.data import DataLoader, TensorDataset\n",
    "\n",
    "def loss_crossentropy_Xb_yb_beta(Xb,yb,beta): #loss for a minibatch\n",
    "    yb=yb.reshape((len(yb),1))\n",
    "    beta=beta.reshape((len(beta),1))\n",
    "    XbTbeta = Xb@beta\n",
    "    l  = torch.sum(torch.log(1+torch.exp(XbTbeta))) - yb.T@XbTbeta\n",
    "    return l.squeeze()"
   ]
  },
  {
   "cell_type": "code",
   "execution_count": 26,
   "metadata": {},
   "outputs": [],
   "source": [
    "batch_size = 10\n",
    "\n",
    "dataset     = TensorDataset( torch.Tensor(X), torch.Tensor(y) )\n",
    "dataloader  = DataLoader(dataset, batch_size= batch_size, shuffle=False)"
   ]
  },
  {
   "cell_type": "code",
   "execution_count": 27,
   "metadata": {},
   "outputs": [
    {
     "name": "stdout",
     "output_type": "stream",
     "text": [
      "betahat_ag=\n",
      " tensor([[-0.4911],\n",
      "        [ 3.8634],\n",
      "        [ 1.2477]], requires_grad=True)\n",
      "\n",
      "loss=17.96032\n"
     ]
    }
   ],
   "source": [
    "loss     = loss_crossentropy_Xb_yb_beta\n",
    "alpha_t  = 7e-3\n",
    "n_epochs = 500\n",
    "f_update = f_minimizeloss_update_torch\n",
    "\n",
    "betahat_ag, tmax_ag, loss_ag_s, betahat_ag_s = \\\n",
    "   f_minimizeloss_loop_torch(dataloader,loss,f_update,alpha_t,\n",
    "                             n_epochs,betainit=beta_init)\n",
    "\n",
    "print(\"betahat_ag=\\n\",betahat_ag)\n",
    "print()\n",
    "print(f\"loss={n*loss_ag_s[tmax_ag].detach():1.5f}\")"
   ]
  },
  {
   "cell_type": "code",
   "execution_count": 33,
   "metadata": {},
   "outputs": [
    {
     "data": {
      "text/plain": [
       "array([[-1.1000439],\n",
       "       [ 3.6103797],\n",
       "       [ 1.1797962]], dtype=float32)"
      ]
     },
     "execution_count": 33,
     "metadata": {},
     "output_type": "execute_result"
    }
   ],
   "source": [
    "betahat_ag = betahat_ag.detach().numpy()\n",
    "betahat_ag"
   ]
  },
  {
   "cell_type": "code",
   "execution_count": null,
   "metadata": {},
   "outputs": [],
   "source": [
    " "
   ]
  },
  {
   "cell_type": "code",
   "execution_count": null,
   "metadata": {},
   "outputs": [],
   "source": []
  }
 ],
 "metadata": {
  "kernelspec": {
   "display_name": "myenv",
   "language": "python",
   "name": "myenv"
  },
  "language_info": {
   "codemirror_mode": {
    "name": "ipython",
    "version": 3
   },
   "file_extension": ".py",
   "mimetype": "text/x-python",
   "name": "python",
   "nbconvert_exporter": "python",
   "pygments_lexer": "ipython3",
   "version": "3.8.10"
  }
 },
 "nbformat": 4,
 "nbformat_minor": 2
}
